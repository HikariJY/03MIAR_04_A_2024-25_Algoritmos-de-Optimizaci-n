{
 "cells": [
  {
   "cell_type": "code",
   "execution_count": null,
   "metadata": {
    "id": "Ku6PrPEl9V4u"
   },
   "outputs": [],
   "source": [
    "#Modulo de llamadas http para descargar ficheros\n",
    "!pip install requests\n",
    "\n",
    "#Libreria del problema TSP: http://elib.zib.de/pub/mp-testdata/tsp/tsplib/tsplib.html\n",
    "!pip install tsplib95"
   ]
  },
  {
   "cell_type": "code",
   "execution_count": 1,
   "metadata": {
    "id": "lwwwi-Rr9haG"
   },
   "outputs": [],
   "source": [
    "import tsplib95\n",
    "import random\n",
    "from math import e\n",
    "import urllib.request"
   ]
  },
  {
   "cell_type": "code",
   "execution_count": 3,
   "metadata": {
    "id": "NpUqeOgl9yiK"
   },
   "outputs": [
    {
     "name": "stderr",
     "output_type": "stream",
     "text": [
      "gzip: swiss42.tsp already exists;\tnot overwritten\n"
     ]
    }
   ],
   "source": [
    "#DATOS DEL PROBLEMA\n",
    "file = \"swiss42.tsp\"\n",
    "urllib.request.urlretrieve(\"http://comopt.ifi.uni-heidelberg.de/software/TSPLIB95/tsp/swiss42.tsp.gz\", file + '.gz')\n",
    "\n",
    "#Descomprimir el fichero de datos\n",
    "!\"C:\\Program Files (x86)\\GnuWin32\\bin\\gzip\" -d swiss42.tsp.gz \n",
    "\n",
    "problem = tsplib95.load(file)\n",
    "\n",
    "#Nodos\n",
    "Nodos = list(problem.get_nodes())\n",
    "\n",
    "#Devuelve la distancia entre dos nodos\n",
    "def distancia(a,b, problem):\n",
    "  return problem.get_weight(a,b)\n",
    "\n",
    "#Devuelve la distancia total de una trayectoria/solucion(lista de nodos)\n",
    "def distancia_total(solucion, problem):\n",
    "  distancia_total = 0\n",
    "  for i in range(len(solucion)-1):\n",
    "    distancia_total += distancia(solucion[i] ,solucion[i+1] ,  problem)\n",
    "  return distancia_total + distancia(solucion[len(solucion)-1] ,solucion[0], problem)\n"
   ]
  },
  {
   "cell_type": "markdown",
   "metadata": {
    "id": "hil3PCXB9iWf"
   },
   "source": [
    "## Algoritmo de colonia de hormigas\n",
    "\n",
    "La función Add_Nodo selecciona al azar un nodo con probabilidad uniforme.\n",
    "Para ser mas eficiente debería seleccionar el próximo nodo siguiendo la probabilidad correspondiente a la ecuación:\n",
    "\n",
    "$p^k_{ij}(t) = \\frac{[\\tau_{ij}(t)]^\\alpha[\\nu_{ij}]^\\beta}{\\sum_{l\\in J^k_i} [\\tau_{il}(t)]^\\alpha[\\nu_{il}]^\\beta}$, si $j \\in J^k_i$\n",
    "\n",
    "$p^k_{ij}(t) = 0$, si $j \\notin J^k_i$"
   ]
  },
  {
   "cell_type": "code",
   "execution_count": 4,
   "metadata": {
    "id": "BzzL8A_w-BeZ"
   },
   "outputs": [],
   "source": [
    "def Add_Nodo(problem, H ,T ) :\n",
    "  #Mejora:Establecer una funcion de probabilidad para\n",
    "  # añadir un nuevo nodo dependiendo de los nodos mas cercanos y de las feromonas depositadas\n",
    "  Nodos = list(problem.get_nodes())\n",
    "  return random.choice(   list(set(range(1,len(Nodos))) - set(H) )  )\n",
    "\n",
    "\n",
    "def Incrementa_Feromona(problem, T, H ) :\n",
    "  #Incrementa segun la calidad de la solución. Añadir una cantidad inversamente proporcional a la distancia total\n",
    "  for i in range(len(H)-1):\n",
    "    T[H[i]][H[i+1]] += 1000/distancia_total(H, problem)\n",
    "  return T\n",
    "\n",
    "def Evaporar_Feromonas(T ):\n",
    "  #Evapora 0.3 el valor de la feromona, sin que baje de 1\n",
    "  #Mejora:Podemos elegir diferentes funciones de evaporación dependiendo de la cantidad actual y de la suma total de feromonas depositadas,...\n",
    "  T = [[ max(T[i][j] - 0.3 , 1) for i in range(len(Nodos)) ] for j in range(len(Nodos))]\n",
    "  return T"
   ]
  },
  {
   "cell_type": "code",
   "execution_count": 6,
   "metadata": {
    "colab": {
     "base_uri": "https://localhost:8080/"
    },
    "id": "8H08lRY7-Emq",
    "outputId": "71c15d2d-a03a-4ee0-a00a-2db946745e15"
   },
   "outputs": [
    {
     "name": "stdout",
     "output_type": "stream",
     "text": [
      "[0, 35, 30, 23, 16, 32, 7, 11, 5, 15, 3, 1, 31, 17, 36, 37, 18, 6, 26, 13, 19, 4, 39, 24, 38, 29, 33, 8, 25, 10, 34, 20, 27, 41, 9, 22, 28, 2, 40, 21, 12, 14]\n",
      "3512\n"
     ]
    }
   ],
   "source": [
    "def hormigas(problem, N) :\n",
    "  #problem = datos del problema\n",
    "  #N = Número de agentes(hormigas)\n",
    "\n",
    "  #Nodos\n",
    "  Nodos = list(problem.get_nodes())\n",
    "  #Aristas\n",
    "  Aristas = list(problem.get_edges())\n",
    "\n",
    "  #Inicializa las aristas con una cantidad inicial de feromonas:1\n",
    "  #Mejora: inicializar con valores diferentes dependiendo diferentes criterios\n",
    "  T = [[ 1 for _ in range(len(Nodos)) ] for _ in range(len(Nodos))]\n",
    "\n",
    "  #Se generan los agentes(hormigas) que serán estructuras de caminos desde 0\n",
    "  Hormiga = [[0] for _ in range(N)]\n",
    "\n",
    "  #Recorre cada agente construyendo la solución\n",
    "  for h in range(N) :\n",
    "    #Para cada agente se construye un camino\n",
    "    for i in range(len(Nodos)-1) :\n",
    "\n",
    "      #Elige el siguiente nodo\n",
    "      Nuevo_Nodo = Add_Nodo(problem, Hormiga[h] ,T )\n",
    "      Hormiga[h].append(Nuevo_Nodo)\n",
    "\n",
    "    #Incrementa feromonas en esa arista\n",
    "    T = Incrementa_Feromona(problem, T, Hormiga[h] )\n",
    "    #print(\"Feromonas(1)\", T)\n",
    "\n",
    "    #Evapora Feromonas\n",
    "    T = Evaporar_Feromonas(T)\n",
    "    #print(\"Feromonas(2)\", T)\n",
    "\n",
    "    #Seleccionamos el mejor agente\n",
    "  mejor_solucion = []\n",
    "  mejor_distancia = 10e100\n",
    "  for h in range(N) :\n",
    "    distancia_actual = distancia_total(Hormiga[h], problem)\n",
    "    if distancia_actual < mejor_distancia:\n",
    "      mejor_solucion = Hormiga[h]\n",
    "      mejor_distancia =distancia_actual\n",
    "\n",
    "\n",
    "  print(mejor_solucion)\n",
    "  print(mejor_distancia)\n",
    "\n",
    "\n",
    "hormigas(problem, 10000)"
   ]
  },
  {
   "cell_type": "code",
   "execution_count": null,
   "metadata": {},
   "outputs": [],
   "source": []
  }
 ],
 "metadata": {
  "colab": {
   "provenance": []
  },
  "kernelspec": {
   "display_name": "Python 3 (ipykernel)",
   "language": "python",
   "name": "python3"
  },
  "language_info": {
   "codemirror_mode": {
    "name": "ipython",
    "version": 3
   },
   "file_extension": ".py",
   "mimetype": "text/x-python",
   "name": "python",
   "nbconvert_exporter": "python",
   "pygments_lexer": "ipython3",
   "version": "3.11.7"
  }
 },
 "nbformat": 4,
 "nbformat_minor": 4
}
