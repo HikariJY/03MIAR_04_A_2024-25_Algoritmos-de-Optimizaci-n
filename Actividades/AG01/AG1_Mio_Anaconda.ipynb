{
 "cells": [
  {
   "cell_type": "markdown",
   "id": "9d428907-074e-47c3-9b09-50ef80710c74",
   "metadata": {},
   "source": [
    "# Algoritmos de Optimización - Actividad Guiada 1\n",
    "\n",
    "Nombre: ***Josseph Yaakob Catagua Cobos*** <br>\n",
    "\n",
    "https://github.com/HikariJY/03MIAR_04_A_2024-25_Algoritmos-de-Optimizacion"
   ]
  },
  {
   "cell_type": "markdown",
   "id": "24d36cf6-56b6-4a1c-aad6-dbf3d0f37da8",
   "metadata": {},
   "source": [
    "## Actividad Propuesta"
   ]
  },
  {
   "cell_type": "markdown",
   "id": "0acee1a5-134e-4625-aac1-15a2286cde7d",
   "metadata": {},
   "source": [
    "Dado un conjunto de puntos se trata de encontrar los dos puntos más cercanos. <br>"
   ]
  },
  {
   "cell_type": "code",
   "execution_count": 1,
   "id": "b7c19aa2-f360-4597-8462-834a15b50b88",
   "metadata": {},
   "outputs": [],
   "source": [
    "import random\n",
    "import numpy as np\n",
    "import matplotlib.pyplot as plt\n",
    "from mpl_toolkits.mplot3d import Axes3D\n",
    "\n",
    "def lista_random(dimension:int=1, tamano:int=10, min:float=0.0, max:float=255.0, decimales:int=0) -> np.ndarray:\n",
    "    if 0 < dimension < 4 and tamano > 0 and min < max:\n",
    "        res = np.random.uniform(low=min, high=max, size=(tamano, dimension))\n",
    "        res = np.round(res, decimals=decimales)\n",
    "        return res[:, 0] if dimension == 1 else res\n",
    "    raise ValueError('Error al ingresar los datos ... 0 < dimension < 4 ... tamano > 0 ... min < max ...')"
   ]
  },
  {
   "cell_type": "markdown",
   "id": "c5c357e4-e0e4-4377-b21d-c9a32640f08b",
   "metadata": {},
   "source": [
    "### Lista 1D"
   ]
  },
  {
   "cell_type": "code",
   "execution_count": 2,
   "id": "49a13a9b-98dc-4aaa-b8ec-b3ef8b2c7785",
   "metadata": {},
   "outputs": [
    {
     "name": "stdout",
     "output_type": "stream",
     "text": [
      "Lista 1D: [3. 9. 1. 2. 6.]\n"
     ]
    }
   ],
   "source": [
    "lista1D = lista_random(dimension=1, tamano=5, min=0, max=10)\n",
    "print(f'Lista 1D: {lista1D}')"
   ]
  },
  {
   "cell_type": "markdown",
   "id": "8a86ac99-4b96-40b4-9d2b-14c732596342",
   "metadata": {},
   "source": [
    "#### Primer intento: Fuerza bruta"
   ]
  },
  {
   "cell_type": "code",
   "execution_count": 3,
   "id": "53294ac5-d5ae-41fb-ad49-a04fe1cace28",
   "metadata": {},
   "outputs": [
    {
     "name": "stdout",
     "output_type": "stream",
     "text": [
      "La distancia minima es entre el punto 1 con valor 3.0 y 4 con valor 2.0. Con una distancia de 1.0 unidades.\n"
     ]
    }
   ],
   "source": [
    "def fuerza_bruta_1d(lista:np.ndarray):\n",
    "    if np.ndim(lista) != 1:\n",
    "        raise ValueError(\"Error solo se admiten listas de 1D ...\")\n",
    "    if lista.size < 2:\n",
    "        print('Error, lista debe tener al menos dos valores para calcular.')\n",
    "    else:\n",
    "        minimo = 0, 0, float('inf')\n",
    "        for i in range(lista.size):\n",
    "            for j in range(i + 1, lista.size):\n",
    "                distancia = np.abs(lista[i] - lista[j])\n",
    "                if distancia < minimo[2]: minimo = i + 1, j + 1, distancia\n",
    "        res = minimo\n",
    "        print(f'La distancia minima es entre el punto {res[0]} con valor {lista[res[0]-1]} y {res[1]} con valor {lista[res[1]-1]}. Con una distancia de {res[2]} unidades.')\n",
    "\n",
    "fuerza_bruta_1d(lista=lista1D)"
   ]
  },
  {
   "cell_type": "markdown",
   "id": "018b5d1d-0887-4689-b684-2f844d2b68f6",
   "metadata": {},
   "source": [
    "Se puede observar en la primera iteración operaciones de $i*j$ equivalente a $n*(n-1)$ siendo $n$ la cantidad de valores de la lista de 1D. <br>\n",
    "<center> $Orden = \\sum_{i=0}^n n*(n-1)$ </center>\n",
    "Tiene una complejidad de $O(n^2)$ y puede ser mejorable. <br>\n"
   ]
  },
  {
   "cell_type": "markdown",
   "id": "25de3eec-2cc7-406a-99ff-15c84f38d29e",
   "metadata": {},
   "source": [
    "#### Segundo intento: Divide y vencerás"
   ]
  },
  {
   "cell_type": "code",
   "execution_count": 4,
   "id": "38ee5e3b-3a54-425a-9158-b9b924f11169",
   "metadata": {},
   "outputs": [
    {
     "name": "stdout",
     "output_type": "stream",
     "text": [
      "La distancia minima es entre el punto 3 con valor 1.0 y 4 con valor 2.0. Con una distancia de 1.0 unidades.\n"
     ]
    }
   ],
   "source": [
    "def _divide_venceras_1d(lista:np.ndarray, v_min:int, v_max:int) -> tuple:\n",
    "    if lista.size < 3:\n",
    "        minimo = v_min, v_max, np.abs(lista[0] - lista[1])\n",
    "    else:\n",
    "        medio = lista.size // 2\n",
    "        min_izq = _divide_venceras_1d(lista=lista[:medio + 1], v_min=v_min, v_max=v_min + medio)\n",
    "        min_der = _divide_venceras_1d(lista=lista[medio:], v_min=v_min + medio, v_max=v_max)\n",
    "        minimo = min([min_izq, min_der], key=lambda p: p[2])\n",
    "    return minimo\n",
    "\n",
    "def divide_venceras_1d(lista:np.ndarray):\n",
    "    if np.ndim(lista) != 1:\n",
    "        raise ValueError(\"Error solo se admiten listas de 1D ...\")\n",
    "    if lista.size < 2:\n",
    "        print('Error, lista debe tener al menos dos valores para calcular.')\n",
    "    else:\n",
    "        lista_ordenada = np.sort(lista)\n",
    "        minimo = _divide_venceras_1d(lista=lista_ordenada, v_min=1, v_max=lista.size)\n",
    "        indice_1 = np.where(lista == lista_ordenada[minimo[0] - 1])[0][0] + 1\n",
    "        indice_2 = np.where(lista == lista_ordenada[minimo[1] - 1])[0][0] + 1\n",
    "        res = min(indice_1, indice_2), max(indice_1,indice_2), minimo[2]\n",
    "        print(f'La distancia minima es entre el punto {res[0]} con valor {lista[res[0]-1]} y {res[1]} con valor {lista[res[1]-1]}. Con una distancia de {res[2]} unidades.')\n",
    "\n",
    "divide_venceras_1d(lista=lista1D)"
   ]
  },
  {
   "cell_type": "markdown",
   "id": "6ba7691c-d2b2-4921-a09c-c5aa66f3f058",
   "metadata": {},
   "source": [
    "El proceso de ordenamiento de la lista tiene un Orden de $n\\log{(n)}$ y que la función que se encarga de encontrar la distancia mínima tiene un Orden de $\\log{(n)}$. <br>\n",
    "<center> $Orden = n\\log{(n)} + \\log{(n)}$ </center>\n",
    "Tiene una complejidad de $O(n\\log{(n)})$, no se sabe si puede ser mejorable con otro metodo. <br>"
   ]
  },
  {
   "cell_type": "markdown",
   "id": "6f170479-74e9-4c04-afee-921c702e17cb",
   "metadata": {},
   "source": [
    "### Lista 2D"
   ]
  },
  {
   "cell_type": "code",
   "execution_count": 5,
   "id": "6e051fd8-eef9-4043-9617-b237abe1d115",
   "metadata": {},
   "outputs": [
    {
     "name": "stdout",
     "output_type": "stream",
     "text": [
      "[[7. 7.]\n",
      " [9. 3.]\n",
      " [6. 7.]\n",
      " [3. 1.]\n",
      " [6. 1.]]\n"
     ]
    },
    {
     "data": {
      "image/png": "[encoded data removed]",
      "text/plain": [
       "<Figure size 640x480 with 1 Axes>"
      ]
     },
     "metadata": {},
     "output_type": "display_data"
    }
   ],
   "source": [
    "lista2D = lista_random(dimension=2, tamano=5, min=0, max=10)\n",
    "print(lista2D)\n",
    "\n",
    "x, y = zip(*lista2D)\n",
    "plt.scatter(x, y, label='Puntos', color='blue')\n",
    "plt.xlabel('X')\n",
    "plt.ylabel('Y')\n",
    "plt.title('Puntos en 2D')\n",
    "plt.grid(True)\n",
    "plt.show()"
   ]
  },
  {
   "cell_type": "markdown",
   "id": "8f25e308-93a3-4f58-879b-42646b0a0f16",
   "metadata": {},
   "source": [
    "#### Primer intento: Fuerza bruta"
   ]
  },
  {
   "cell_type": "code",
   "execution_count": 6,
   "id": "ad256a41-7455-4f83-9726-8d0194c13847",
   "metadata": {},
   "outputs": [
    {
     "name": "stdout",
     "output_type": "stream",
     "text": [
      "La distancia minima es entre el punto 1 con valor [7. 7.] y 3 con valor [6. 7.]. Con una distancia de 1.0 unidades.\n"
     ]
    }
   ],
   "source": [
    "def fuerza_bruta_2d(lista:np.ndarray):\n",
    "    if len(lista[0]) != 2:\n",
    "        raise ValueError(\"Error solo se admiten listas de 2D ...\")\n",
    "    if lista.shape[0] < 2:\n",
    "        print('Error, lista debe tener al menos dos valores para calcular.')\n",
    "    else:\n",
    "        minimo = 0, 0, float('inf')\n",
    "        for i in range(lista.shape[0]):\n",
    "            for j in range(i + 1, lista.shape[0]):\n",
    "                distancia = np.round(np.linalg.norm(lista[i] - lista[j]), 4)\n",
    "                if distancia < minimo[2]: minimo = i + 1, j + 1, distancia\n",
    "        res = minimo\n",
    "        print(f'La distancia minima es entre el punto {res[0]} con valor {lista[res[0]-1]} y {res[1]} con valor {lista[res[1]-1]}. Con una distancia de {res[2]} unidades.')\n",
    "\n",
    "fuerza_bruta_2d(lista=lista2D)"
   ]
  },
  {
   "cell_type": "markdown",
   "id": "c11fca4d-a019-401d-ae19-e2b52ba2c41c",
   "metadata": {},
   "source": [
    "Se puede observar en la primera iteración operaciones de $i*j$ equivalente a $n*(n-1)$ siendo $n$ la cantidad de valores de la lista de 2D. <br>\n",
    "<center> $Orden = 2\\sum_{i=0}^n n*(n-1)$ </center>\n",
    "Tiene una complejidad de $O(n^2)$ y puede ser mejorable. <br>"
   ]
  },
  {
   "cell_type": "markdown",
   "id": "1446c4f7-aac4-48c7-abe5-13fd8731e74e",
   "metadata": {},
   "source": [
    "#### Segundo intento: Divide y vencerás"
   ]
  },
  {
   "cell_type": "code",
   "execution_count": 7,
   "id": "0e66561f-07e1-45a1-864f-882b00453812",
   "metadata": {},
   "outputs": [
    {
     "name": "stdout",
     "output_type": "stream",
     "text": [
      "La distancia minima es entre el punto 1 con valor [7. 7.] y 3 con valor [6. 7.]. Con una distancia de 1.0 unidades.\n"
     ]
    }
   ],
   "source": [
    "def _divide_venceras_2d(lista:np.ndarray, v_min:int, v_max:int) -> tuple:\n",
    "    if lista.shape[0] < 3:\n",
    "        minimo = v_min, v_max, np.round(np.linalg.norm(lista[0] - lista[1]), 4)\n",
    "    else:\n",
    "        medio = lista.shape[0] // 2\n",
    "        min_izq = _divide_venceras_2d(lista=lista[:medio + 1], v_min=v_min, v_max=v_min + medio)\n",
    "        min_der = _divide_venceras_2d(lista=lista[medio:], v_min=v_min + medio, v_max=v_max)\n",
    "        minimo = min([min_izq, min_der], key=lambda p: p[2])\n",
    "    return minimo\n",
    "\n",
    "def divide_venceras_2d(lista:np.ndarray):\n",
    "    if len(lista[0]) != 2:\n",
    "        raise ValueError(\"Error solo se admiten listas de 2D ...\")\n",
    "    if lista.shape[0] < 2:\n",
    "        print('Error, lista debe tener al menos dos valores para calcular.')\n",
    "    else:\n",
    "        lista_ordenada_x = np.array(sorted(lista, key=lambda p: p[0]))\n",
    "        lista_ordenada_y = np.array(sorted(lista, key=lambda p: p[1]))\n",
    "        minimo_x = _divide_venceras_2d(lista=lista_ordenada_x, v_min=1, v_max=lista.shape[0])\n",
    "        minimo_y = _divide_venceras_2d(lista=lista_ordenada_y, v_min=1, v_max=lista.shape[0])\n",
    "        minimo = min([minimo_x, minimo_y], key=lambda p: p[2])\n",
    "        if minimo == minimo_x:\n",
    "            lista_ordenada = lista_ordenada_x\n",
    "        elif minimo == minimo_y:\n",
    "            lista_ordenada = lista_ordenada_y\n",
    "        indice_1 = np.where((lista == lista_ordenada[minimo[0] - 1]).all(axis=1))[0][0] + 1\n",
    "        indice_2 = np.where((lista == lista_ordenada[minimo[1] - 1]).all(axis=1))[0][0] + 1\n",
    "        res = min(indice_1, indice_2), max(indice_1,indice_2), minimo[2]\n",
    "        print(f'La distancia minima es entre el punto {res[0]} con valor {lista[res[0]-1]} y {res[1]} con valor {lista[res[1]-1]}. Con una distancia de {res[2]} unidades.')\n",
    "\n",
    "divide_venceras_2d(lista=lista2D)"
   ]
  },
  {
   "cell_type": "markdown",
   "id": "5b1e199e-68f2-48bd-80a7-8b1fb98a9f75",
   "metadata": {},
   "source": [
    "El proceso de ordenamiento de la lista tiene un Orden de $n\\log{(n)}$ y que la función que se encarga de encontrar la distancia mínima tiene un Orden de $\\log{(n)}$. <br>\n",
    "<center> $Orden = 2 n\\log{(n)} + 2\\log{(n)}$ </center>\n",
    "Tiene una complejidad de $O(n\\log{(n)})$, no se sabe si puede ser mejorable con otro metodo. <br>"
   ]
  },
  {
   "cell_type": "markdown",
   "id": "d8154242-21c6-4444-a2ea-bd818aad5b0a",
   "metadata": {},
   "source": [
    "### Lista 3D"
   ]
  },
  {
   "cell_type": "code",
   "execution_count": 8,
   "id": "f0aef2c5-a68c-4ef0-81fe-7ae2789e447e",
   "metadata": {},
   "outputs": [
    {
     "name": "stdout",
     "output_type": "stream",
     "text": [
      "[[ 5.  5.  9.]\n",
      " [ 5.  6.  1.]\n",
      " [10.  3.  4.]\n",
      " [ 4.  1.  3.]\n",
      " [ 1.  3.  1.]]\n"
     ]
    },
    {
     "data": {
      "image/png": "[encoded data removed]",
      "text/plain": [
       "<Figure size 640x480 with 1 Axes>"
      ]
     },
     "metadata": {},
     "output_type": "display_data"
    }
   ],
   "source": [
    "lista3D = lista_random(dimension=3, tamano=5, min=0, max=10)\n",
    "print(lista3D)\n",
    "\n",
    "fig = plt.figure()\n",
    "ax = fig.add_subplot(111, projection='3d')\n",
    "x, y, z = zip(*lista3D)\n",
    "ax.scatter(x, y, z, c='b', marker='o')\n",
    "ax.set_xlabel('X')\n",
    "ax.set_ylabel('Y')\n",
    "ax.set_zlabel('Z')\n",
    "plt.title('Puntos en 3D')\n",
    "plt.show()"
   ]
  },
  {
   "cell_type": "markdown",
   "id": "6be75c63-78f4-4d6d-98dc-fa507f8aabd5",
   "metadata": {},
   "source": [
    "#### Primer intento: Fuerza bruta"
   ]
  },
  {
   "cell_type": "code",
   "execution_count": 9,
   "id": "e8bec342-dda0-4f05-a418-bbff1dcd33b9",
   "metadata": {},
   "outputs": [
    {
     "name": "stdout",
     "output_type": "stream",
     "text": [
      "La distancia minima es entre el punto 4 con valor [4. 1. 3.] y 5 con valor [1. 3. 1.]. Con una distancia de 4.1231 unidades.\n"
     ]
    }
   ],
   "source": [
    "def fuerza_bruta_3d(lista:np.ndarray):\n",
    "    if len(lista[0]) != 3:\n",
    "        raise ValueError(\"Error solo se admiten listas de 3D ...\")\n",
    "    if lista.shape[0] < 2:\n",
    "        print('Error, lista debe tener al menos dos valores para calcular.')\n",
    "    else:\n",
    "        minimo = 0, 0, float('inf')\n",
    "        for i in range(lista.shape[0]):\n",
    "            for j in range(i + 1, lista.shape[0]):\n",
    "                distancia = np.round(np.linalg.norm(lista[i] - lista[j]), 4)\n",
    "                if distancia < minimo[2]: minimo = i + 1, j + 1, distancia\n",
    "        res = minimo\n",
    "        print(f'La distancia minima es entre el punto {res[0]} con valor {lista[res[0]-1]} y {res[1]} con valor {lista[res[1]-1]}. Con una distancia de {res[2]} unidades.')\n",
    "\n",
    "fuerza_bruta_3d(lista=lista3D)"
   ]
  },
  {
   "cell_type": "markdown",
   "id": "30e81b78-12ef-4aea-9096-674580b32cbb",
   "metadata": {},
   "source": [
    "Se puede observar en la primera iteración operaciones de $i*j$ equivalente a $n*(n-1)$ siendo $n$ la cantidad de valores de la lista de 3D. <br>\n",
    "<center> $Orden = 3\\sum_{i=0}^n n*(n-1)$ </center>\n",
    "Tiene una complejidad de $O(n^2)$ y puede ser mejorable. <br>"
   ]
  },
  {
   "cell_type": "markdown",
   "id": "fd11d8e2-220b-4c84-aea8-50eefe4588de",
   "metadata": {},
   "source": [
    "#### Segundo intento: Divide y vencerás"
   ]
  },
  {
   "cell_type": "code",
   "execution_count": 10,
   "id": "314a011b-87d9-4582-9d6b-688e84a04fa0",
   "metadata": {},
   "outputs": [
    {
     "name": "stdout",
     "output_type": "stream",
     "text": [
      "La distancia minima es entre el punto 4 con valor [4. 1. 3.] y 5 con valor [1. 3. 1.]. Con una distancia de 4.1231 unidades.\n"
     ]
    }
   ],
   "source": [
    "def _divide_venceras_3d(lista:np.ndarray, v_min:int, v_max:int) -> tuple:\n",
    "    if lista.shape[0] < 3:\n",
    "        minimo = v_min, v_max, np.round(np.linalg.norm(lista[0] - lista[1]), 4)\n",
    "    else:\n",
    "        medio = lista.shape[0] // 2\n",
    "        min_izq = _divide_venceras_2d(lista=lista[:medio + 1], v_min=v_min, v_max=v_min + medio)\n",
    "        min_der = _divide_venceras_2d(lista=lista[medio:], v_min=v_min + medio, v_max=v_max)\n",
    "        minimo = min([min_izq, min_der], key=lambda p: p[2])\n",
    "    return minimo\n",
    "\n",
    "def divide_venceras_3d(lista:np.ndarray):\n",
    "    if len(lista[0]) != 3:\n",
    "        raise ValueError(\"Error solo se admiten listas de 3D ...\")\n",
    "    if lista.shape[0] < 2:\n",
    "        print('Error, lista debe tener al menos dos valores para calcular.')\n",
    "    else:\n",
    "        lista_ordenada_x = np.array(sorted(lista, key=lambda p: p[0]))\n",
    "        lista_ordenada_y = np.array(sorted(lista, key=lambda p: p[1]))\n",
    "        lista_ordenada_z = np.array(sorted(lista, key=lambda p: p[2]))\n",
    "        minimo_x = _divide_venceras_2d(lista=lista_ordenada_x, v_min=1, v_max=lista.shape[0])\n",
    "        minimo_y = _divide_venceras_2d(lista=lista_ordenada_y, v_min=1, v_max=lista.shape[0])\n",
    "        minimo_z = _divide_venceras_2d(lista=lista_ordenada_z, v_min=1, v_max=lista.shape[0])\n",
    "        minimo = min([minimo_x, minimo_y, minimo_z], key=lambda p: p[2])\n",
    "        if minimo == minimo_x:\n",
    "            lista_ordenada = lista_ordenada_x\n",
    "        elif minimo == minimo_y:\n",
    "            lista_ordenada = lista_ordenada_y\n",
    "        elif minimo == minimo_z:\n",
    "            lista_ordenada = lista_ordenada_z\n",
    "        indice_1 = np.where((lista == lista_ordenada[minimo[0] - 1]).all(axis=1))[0][0] + 1\n",
    "        indice_2 = np.where((lista == lista_ordenada[minimo[1] - 1]).all(axis=1))[0][0] + 1\n",
    "        res = min(indice_1, indice_2), max(indice_1,indice_2), minimo[2]\n",
    "        print(f'La distancia minima es entre el punto {res[0]} con valor {lista[res[0]-1]} y {res[1]} con valor {lista[res[1]-1]}. Con una distancia de {res[2]} unidades.')\n",
    "\n",
    "divide_venceras_3d(lista=lista3D)"
   ]
  },
  {
   "cell_type": "markdown",
   "id": "946ca648-3d64-4355-aae2-f9127d12af84",
   "metadata": {},
   "source": [
    "El proceso de ordenamiento de la lista tiene un Orden de $n\\log{(n)}$ y que la función que se encarga de encontrar la distancia mínima tiene un Orden de $\\log{(n)}$. <br>\n",
    "<center> $Orden = 2 n\\log{(n)} + 2\\log{(n)}$ </center>\n",
    "Tiene una complejidad de $O(n\\log{(n)})$, no se sabe si puede ser mejorable con otro metodo. <br>"
   ]
  },
  {
   "cell_type": "markdown",
   "id": "b07e19af-1383-4b5b-a4ff-0dd6454f97fa",
   "metadata": {},
   "source": [
    "## Actividades en Clases"
   ]
  },
  {
   "cell_type": "markdown",
   "id": "0c3ff046-3f4a-4a77-b57b-999407b5a671",
   "metadata": {},
   "source": [
    "### Torres de Hanoi (Divide y vencerás)"
   ]
  },
  {
   "cell_type": "markdown",
   "id": "e0ca6875-65b9-4c9a-a950-5bfdc566fdbb",
   "metadata": {},
   "source": [
    "#### Enseñado"
   ]
  },
  {
   "cell_type": "code",
   "execution_count": 11,
   "id": "21730a06-1820-4da5-ae6c-808d80f57cde",
   "metadata": {},
   "outputs": [
    {
     "name": "stdout",
     "output_type": "stream",
     "text": [
      "Lleva la ficha  1  hasta  3\n",
      "Lleva la ficha  1  hasta  2\n",
      "Lleva la ficha  3  hasta  2\n",
      "Lleva la ficha  1  hasta  3\n",
      "Lleva la ficha  2  hasta  1\n",
      "Lleva la ficha  2  hasta  3\n",
      "Lleva la ficha  1  hasta  3\n"
     ]
    }
   ],
   "source": [
    "def Torres_Hanoi(N, desde, hasta):\n",
    "  if N == 1 :\n",
    "    print(\"Lleva la ficha \", desde, \" hasta \", hasta)\n",
    "  else:\n",
    "    #Torres_Hanoi(N-1, desde, 6-desde-hasta)\n",
    "    Torres_Hanoi(N-1, desde, 6-desde-hasta)\n",
    "    print(\"Lleva la ficha \", desde, \" hasta \", hasta)\n",
    "    #Torres_Hanoi(N-1, 6-desde-hasta, hasta)\n",
    "    Torres_Hanoi(N-1, 6-desde-hasta, hasta)\n",
    "\n",
    "Torres_Hanoi(3, 1, 3)"
   ]
  },
  {
   "cell_type": "markdown",
   "id": "6658d009-e040-49fc-a679-7be8207ce4b9",
   "metadata": {},
   "source": [
    "#### Mio"
   ]
  },
  {
   "cell_type": "code",
   "execution_count": 12,
   "id": "d3b22ea8-bd8b-4c46-a5a7-5a2684c4a85b",
   "metadata": {},
   "outputs": [
    {
     "name": "stdout",
     "output_type": "stream",
     "text": [
      "Mover disco 1 desde 1 hasta 3.\n",
      "Mover disco 2 desde 1 hasta 2.\n",
      "Mover disco 1 desde 3 hasta 2.\n",
      "Mover disco 3 desde 1 hasta 3.\n",
      "Mover disco 1 desde 2 hasta 1.\n",
      "Mover disco 2 desde 2 hasta 3.\n",
      "Mover disco 1 desde 1 hasta 3.\n"
     ]
    }
   ],
   "source": [
    "def torres_de_hanoi(n:int=3, origen:int=1, destino:int=3):\n",
    "    auxiliar = 6 - origen - destino\n",
    "    if n == 1:\n",
    "        print(f'Mover disco {n} desde {origen} hasta {destino}.')\n",
    "    else:\n",
    "        torres_de_hanoi(n=n - 1, origen=origen, destino=auxiliar)\n",
    "        print(f'Mover disco {n} desde {origen} hasta {destino}.')\n",
    "        torres_de_hanoi(n=n - 1, origen=auxiliar, destino=destino)\n",
    "\n",
    "numero_de_discos = 3\n",
    "torres_de_hanoi(n=numero_de_discos, origen=1, destino=3)"
   ]
  },
  {
   "cell_type": "markdown",
   "id": "9884f834-7f42-4bd3-874c-f6d10c7e3978",
   "metadata": {},
   "source": [
    "#### Extra, con ayuda"
   ]
  },
  {
   "cell_type": "code",
   "execution_count": 13,
   "id": "80826e2a-c922-447c-a255-61fa78d8da5d",
   "metadata": {},
   "outputs": [
    {
     "name": "stdout",
     "output_type": "stream",
     "text": [
      "Estado Inicial:\n",
      "Torre 1: [3, 2, 1]\n",
      "Torre 2: []\n",
      "Torre 3: []\n",
      "Pasos:\n",
      "Lleva la ficha 1 desde 1 hasta 3.\n",
      "Torre 1: [3, 2]\n",
      "Torre 2: []\n",
      "Torre 3: [1]\n",
      "Lleva la ficha 2 desde 1 hasta 2.\n",
      "Torre 1: [3]\n",
      "Torre 2: [2]\n",
      "Torre 3: [1]\n",
      "Lleva la ficha 1 desde 3 hasta 2.\n",
      "Torre 1: [3]\n",
      "Torre 2: [2, 1]\n",
      "Torre 3: []\n",
      "Lleva la ficha 3 desde 1 hasta 3.\n",
      "Torre 1: []\n",
      "Torre 2: [2, 1]\n",
      "Torre 3: [3]\n",
      "Lleva la ficha 1 desde 2 hasta 1.\n",
      "Torre 1: [1]\n",
      "Torre 2: [2]\n",
      "Torre 3: [3]\n",
      "Lleva la ficha 2 desde 2 hasta 3.\n",
      "Torre 1: [1]\n",
      "Torre 2: []\n",
      "Torre 3: [3, 2]\n",
      "Lleva la ficha 1 desde 1 hasta 3.\n",
      "Torre 1: []\n",
      "Torre 2: []\n",
      "Torre 3: [3, 2, 1]\n"
     ]
    }
   ],
   "source": [
    "def imprimir_estado_torres(estado_torres:dict):\n",
    "    for torre, discos in estado_torres.items():\n",
    "        print(f'Torre {torre}: {discos}')\n",
    "\n",
    "def torres_de_hanoi_con_estado(estado_torres:dict, n:int=3, origen:int=1, destino:int=3):\n",
    "    auxiliar = 6 - origen - destino\n",
    "    if n == 1:\n",
    "        disco = estado_torres[origen].pop()\n",
    "        print(f'Lleva la ficha {disco} desde {origen} hasta {destino}.')\n",
    "        estado_torres[destino].append(disco)\n",
    "        imprimir_estado_torres(estado_torres=estado_torres)\n",
    "    else:\n",
    "        torres_de_hanoi_con_estado(estado_torres=estado_torres, n=n-1, origen=origen, destino=auxiliar)\n",
    "        disco = estado_torres[origen].pop()\n",
    "        print(f'Lleva la ficha {disco} desde {origen} hasta {destino}.')\n",
    "        estado_torres[destino].append(disco)\n",
    "        imprimir_estado_torres(estado_torres=estado_torres)\n",
    "        torres_de_hanoi_con_estado(estado_torres=estado_torres, n=n-1, origen=auxiliar, destino=destino)\n",
    "\n",
    "numero_de_discos = 3\n",
    "estado_inicial = {\n",
    "    1: list(range(numero_de_discos, 0, -1)),\n",
    "    2: [],\n",
    "    3: []\n",
    "}\n",
    "print(\"Estado Inicial:\")\n",
    "imprimir_estado_torres(estado_torres=estado_inicial)\n",
    "print(\"Pasos:\")\n",
    "torres_de_hanoi_con_estado(estado_torres=estado_inicial, n=numero_de_discos, origen=1, destino=3)"
   ]
  },
  {
   "cell_type": "markdown",
   "id": "481e5ecb-607c-40bf-8e3d-f280a44110fc",
   "metadata": {},
   "source": [
    "### Sucesión de Fibonacci (Divide y vencerás)"
   ]
  },
  {
   "cell_type": "markdown",
   "id": "09d768f2-89cd-4a87-b9c2-8ae9ee461446",
   "metadata": {},
   "source": [
    "#### Enseñado"
   ]
  },
  {
   "cell_type": "code",
   "execution_count": 14,
   "id": "6734fb37-ea7a-4962-8fcd-f89c84804c88",
   "metadata": {},
   "outputs": [
    {
     "data": {
      "text/plain": [
       "34"
      ]
     },
     "execution_count": 14,
     "metadata": {},
     "output_type": "execute_result"
    }
   ],
   "source": [
    "#Sucesión_de_Fibonacci\n",
    "#https://es.wikipedia.org/wiki/Sucesi%C3%B3n_de_Fibonacci\n",
    "#Calculo del termino n-simo de la suscesión de Fibonacci\n",
    "def Fibonacci(N:int):\n",
    "  if N < 2:\n",
    "    return 1\n",
    "  else:\n",
    "    return Fibonacci(N-1)+Fibonacci(N-2)\n",
    "\n",
    "Fibonacci(8)"
   ]
  },
  {
   "cell_type": "markdown",
   "id": "576e5d7b-078d-47e8-b4fc-4349d3b6b783",
   "metadata": {},
   "source": [
    "#### Mio"
   ]
  },
  {
   "cell_type": "code",
   "execution_count": 15,
   "id": "760908c3-fa9e-4e51-98e9-341212a08cec",
   "metadata": {},
   "outputs": [
    {
     "name": "stdout",
     "output_type": "stream",
     "text": [
      "El valor 8-ésimo de la serie de Fibonacci es: 21\n"
     ]
    }
   ],
   "source": [
    "def fibonacci(n:int) -> int:\n",
    "    if n < 2:\n",
    "        return n\n",
    "    else:\n",
    "        return fibonacci(n=n - 1) + fibonacci(n=n - 2)\n",
    "\n",
    "indice = 8\n",
    "valor_fibonacci = fibonacci(n=indice)\n",
    "print(f\"El valor {indice}-ésimo de la serie de Fibonacci es: {valor_fibonacci}\")"
   ]
  },
  {
   "cell_type": "markdown",
   "id": "cf0eefd5-ad33-45dd-8b91-58bb0e846c9b",
   "metadata": {},
   "source": [
    "### Devolución de cambio (Técnica voraz)"
   ]
  },
  {
   "cell_type": "markdown",
   "id": "920519ef-64f2-4f03-9c64-4b1dbe96667f",
   "metadata": {},
   "source": [
    "### Enseñado"
   ]
  },
  {
   "cell_type": "code",
   "execution_count": 16,
   "id": "b86fe71f-0912-4ce3-9ba1-2a97e64a4b46",
   "metadata": {},
   "outputs": [
    {
     "data": {
      "text/plain": [
       "[12, 1, 0, 4]"
      ]
     },
     "execution_count": 16,
     "metadata": {},
     "output_type": "execute_result"
    }
   ],
   "source": [
    "def cambio_monedas(N, SM):\n",
    "  SOLUCION = [0]*len(SM)   #SOLUCION = [0,0,0,0,..]\n",
    "  ValorAcumulado = 0\n",
    "  for i,valor in enumerate(SM):\n",
    "    monedas =  (N-ValorAcumulado)//valor\n",
    "    SOLUCION[i] = monedas\n",
    "    ValorAcumulado = ValorAcumulado + monedas*valor\n",
    "    if ValorAcumulado == N:\n",
    "      return SOLUCION\n",
    "\n",
    "cambio_monedas(314,[25,10,5,1])"
   ]
  },
  {
   "cell_type": "markdown",
   "id": "f2bfffb5-28c3-4b5d-ae28-2365b8a37c23",
   "metadata": {},
   "source": [
    "### Mio"
   ]
  },
  {
   "cell_type": "code",
   "execution_count": 17,
   "id": "6d41c7ec-00b5-488c-be00-bbfdb10fc6f0",
   "metadata": {},
   "outputs": [
    {
     "name": "stdout",
     "output_type": "stream",
     "text": [
      "12 moneda(s) de 25 unidades\n",
      "1 moneda(s) de 10 unidades\n",
      "0 moneda(s) de 5 unidades\n",
      "4 moneda(s) de 1 unidades\n"
     ]
    }
   ],
   "source": [
    "def cambio_monedas(cantidada:int, sistema_monetario:list):\n",
    "    res = [0] * len(sistema_monetario)\n",
    "    for i, valor in enumerate(sistema_monetario):\n",
    "        monedas = cantidada // valor\n",
    "        cantidada -= monedas * valor\n",
    "        res[i] = monedas\n",
    "    res = list(zip(sistema_monetario, res))\n",
    "    for valor, cantidad in res:\n",
    "        print(f\"{cantidad} moneda(s) de {valor} unidades\")\n",
    "\n",
    "cambio_monedas(cantidada=314, sistema_monetario=[25, 10, 5, 1])"
   ]
  },
  {
   "cell_type": "markdown",
   "id": "aaa743d8-61d2-4966-a7ad-b594ef79e1d7",
   "metadata": {},
   "source": [
    "### N-Reinas (Vuelta atrás)"
   ]
  },
  {
   "cell_type": "markdown",
   "id": "57086b17-6e4c-4883-9984-1a08c0fadca4",
   "metadata": {},
   "source": [
    "#### Enseñado"
   ]
  },
  {
   "cell_type": "code",
   "execution_count": 18,
   "id": "5630e866-db7a-4773-83f9-6ef726897227",
   "metadata": {},
   "outputs": [
    {
     "name": "stdout",
     "output_type": "stream",
     "text": [
      "[2, 4, 1, 3]\n",
      "\n",
      " -  -  X  - \n",
      " X  -  -  - \n",
      " -  -  -  X \n",
      " -  X  -  - \n",
      "[3, 1, 4, 2]\n",
      "\n",
      " -  X  -  - \n",
      " -  -  -  X \n",
      " X  -  -  - \n",
      " -  -  X  - \n"
     ]
    }
   ],
   "source": [
    "def escribe(S):\n",
    "  n = len(S)\n",
    "  for x in range(n):\n",
    "    print(\"\")\n",
    "    for i in range(n):\n",
    "      if S[i] == x+1:\n",
    "        print(\" X \" , end=\"\")\n",
    "      else:\n",
    "        print(\" - \", end=\"\")\n",
    "\n",
    "def es_prometedora(SOLUCION,etapa):\n",
    "  #print(SOLUCION)\n",
    "  #Si la solución tiene dos valores iguales no es valida => Dos reinas en la misma fila\n",
    "  for i in range(etapa+1):\n",
    "    #print(\"El valor \" + str(SOLUCION[i]) + \" está \" +  str(SOLUCION.count(SOLUCION[i])) + \" veces\")\n",
    "    if SOLUCION.count(SOLUCION[i]) > 1:\n",
    "      return False\n",
    "    #Verifica las diagonales\n",
    "    for j in range(i+1, etapa +1 ):\n",
    "      #print(\"Comprobando diagonal de \" + str(i) + \" y \" + str(j))\n",
    "      if abs(i-j) == abs(SOLUCION[i]-SOLUCION[j]) : return False\n",
    "  return True\n",
    "\n",
    "def reinas(N, solucion=[], etapa=0):\n",
    "  if len(solucion) == 0:\n",
    "      solucion=[0 for i in range(N)]\n",
    "  for i in range(1, N+1):\n",
    "    solucion[etapa] = i\n",
    "    if es_prometedora(solucion, etapa):\n",
    "      if etapa == N-1:\n",
    "        print(solucion)\n",
    "        escribe(solucion)\n",
    "        print()\n",
    "      else:\n",
    "        reinas(N, solucion, etapa+1)\n",
    "    else:\n",
    "      None\n",
    "    solucion[etapa] = 0\n",
    "\n",
    "reinas(4)"
   ]
  },
  {
   "cell_type": "markdown",
   "id": "27a98562-7858-4238-b6d3-aa87e5fdeb4a",
   "metadata": {},
   "source": [
    "#### Mio"
   ]
  },
  {
   "cell_type": "code",
   "execution_count": 19,
   "id": "d1c850e7-1c98-4679-b6d0-746dba1f72bb",
   "metadata": {},
   "outputs": [
    {
     "name": "stdout",
     "output_type": "stream",
     "text": [
      "Para un tablero de 4x4 y 4 reinas.\n",
      "\n",
      "Solución 1:\n",
      "[0, 0, 1, 0]\n",
      "[1, 0, 0, 0]\n",
      "[0, 0, 0, 1]\n",
      "[0, 1, 0, 0]\n",
      "\n",
      "Solución 2:\n",
      "[0, 1, 0, 0]\n",
      "[0, 0, 0, 1]\n",
      "[1, 0, 0, 0]\n",
      "[0, 0, 1, 0]\n",
      "\n"
     ]
    }
   ],
   "source": [
    "def dibujar_soluciones(soluciones:list=[]):\n",
    "    for i, solucion in enumerate(soluciones):\n",
    "        print(f\"Solución {i + 1}:\")\n",
    "        for fila in solucion:\n",
    "            print(fila)\n",
    "        print()\n",
    "\n",
    "def es_seguro(tablero:list, fila:int, columna:int) -> bool:\n",
    "    # Verificar si hay una reina en la misma fila\n",
    "    for i in range(columna):\n",
    "        if tablero[fila][i] == 1:\n",
    "            return False\n",
    "    # Verificar diagonal superior en el lado izquierdo\n",
    "    for i, j in zip(range(fila, -1, -1), range(columna, -1, -1)):\n",
    "        if tablero[i][j] == 1:\n",
    "            return False\n",
    "    # Verificar diagonal inferior en el lado izquierdo\n",
    "    for i, j in zip(range(fila, len(tablero)), range(columna, -1, -1)):\n",
    "        if tablero[i][j] == 1:\n",
    "            return False\n",
    "    return True\n",
    "\n",
    "def resolver_n_reinas_util(tablero:list, col:int, soluciones:list):\n",
    "    if col >= len(tablero):\n",
    "        # Encontró una solución, añadir a la lista de soluciones\n",
    "        soluciones.append([fila[:] for fila in tablero])\n",
    "    for i in range(len(tablero)):\n",
    "        if es_seguro(tablero=tablero, fila=i, columna=col):\n",
    "            tablero[i][col] = 1\n",
    "            resolver_n_reinas_util(tablero=tablero, col=col + 1, soluciones=soluciones)\n",
    "            tablero[i][col] = 0\n",
    "\n",
    "def resolver_n_reinas(n:int=8):\n",
    "    print(f'Para un tablero de {n}x{n} y {n} reinas.\\n')\n",
    "    tablero = [[0] * n for _ in range(n)]\n",
    "    soluciones = []\n",
    "    resolver_n_reinas_util(tablero, 0, soluciones)\n",
    "    dibujar_soluciones(soluciones)\n",
    "\n",
    "soluciones = resolver_n_reinas(4)"
   ]
  },
  {
   "cell_type": "markdown",
   "id": "680e2bb4-e4fe-4565-a91c-55ff5519e323",
   "metadata": {},
   "source": [
    "### Viaje por el río (Programación dinámica)"
   ]
  },
  {
   "cell_type": "markdown",
   "id": "00e59a85-28cf-4d67-809a-d5539f927e19",
   "metadata": {},
   "source": [
    "#### Enseñando"
   ]
  },
  {
   "cell_type": "code",
   "execution_count": 20,
   "id": "7962580d-5d0f-4a52-abe1-301284defc19",
   "metadata": {},
   "outputs": [
    {
     "name": "stdout",
     "output_type": "stream",
     "text": [
      "PRECIOS\n",
      "[0, 5, 4, 3, 8, 8, 11]\n",
      "[9999, 0, 999, 2, 3, 8, 7]\n",
      "[9999, 9999, 0, 1, 6, 4, 7]\n",
      "[9999, 9999, 9999, 0, 5, 6, 9]\n",
      "[9999, 9999, 9999, 9999, 0, 999, 4]\n",
      "[9999, 9999, 9999, 9999, 9999, 0, 3]\n",
      "[9999, 9999, 9999, 9999, 9999, 9999, 9999]\n",
      "\n",
      "RUTA\n",
      "[0, 0, 0, 0, 1, 2, 5]\n",
      "['', 1, 1, 1, 1, 3, 4]\n",
      "['', '', 2, 2, 3, 2, 5]\n",
      "['', '', '', 3, 3, 3, 3]\n",
      "['', '', '', '', 4, 4, 4]\n",
      "['', '', '', '', '', 5, 5]\n",
      "['', '', '', '', '', '', '']\n",
      "\n",
      "La ruta es:\n"
     ]
    },
    {
     "data": {
      "text/plain": [
       "',0,2'"
      ]
     },
     "execution_count": 20,
     "metadata": {},
     "output_type": "execute_result"
    }
   ],
   "source": [
    "TARIFAS = [\n",
    "[0,5,4,3,999,999,999],\n",
    "[999,0,999,2,3,999,11],\n",
    "[999,999, 0,1,999,4,10],\n",
    "[999,999,999, 0,5,6,9],\n",
    "[999,999, 999,999,0,999,4],\n",
    "[999,999, 999,999,999,0,3],\n",
    "[999,999,999,999,999,999,0]\n",
    "]\n",
    "\n",
    "################################################################\n",
    "def Precios(TARIFAS):\n",
    "################################################################\n",
    "  #Total de Nodos\n",
    "  N = len(TARIFAS[0])\n",
    "  #Inicialización de la tabla de precios\n",
    "  PRECIOS = [ [9999]*N for i in [9999]*N]\n",
    "  RUTA = [ [\"\"]*N for i in [\"\"]*N]\n",
    "  for i in range(0,N-1):\n",
    "    RUTA[i][i] = i             #Para ir de i a i se \"pasa por i\"\n",
    "    PRECIOS[i][i] = 0          #Para ir de i a i se se paga 0\n",
    "    for j in range(i+1, N):\n",
    "      MIN = TARIFAS[i][j]\n",
    "      RUTA[i][j] = i\n",
    "      for k in range(i, j):\n",
    "        if PRECIOS[i][k] + TARIFAS[k][j] < MIN:\n",
    "            MIN = min(MIN, PRECIOS[i][k] + TARIFAS[k][j] )\n",
    "            RUTA[i][j] = k          #Anota que para ir de i a j hay que pasar por k\n",
    "        PRECIOS[i][j] = MIN\n",
    "  return PRECIOS,RUTA\n",
    "################################################################\n",
    "\n",
    "PRECIOS,RUTA = Precios(TARIFAS)\n",
    "#print(PRECIOS[0][6])\n",
    "\n",
    "print(\"PRECIOS\")\n",
    "for i in range(len(TARIFAS)):\n",
    "  print(PRECIOS[i])\n",
    "\n",
    "print(\"\\nRUTA\")\n",
    "for i in range(len(TARIFAS)):\n",
    "  print(RUTA[i])\n",
    "\n",
    "#Determinar la ruta con Recursividad\n",
    "def calcular_ruta(RUTA, desde, hasta):\n",
    "  if desde == hasta:\n",
    "    #print(\"Ir a :\" + str(desde))\n",
    "    return \"\"\n",
    "  else:\n",
    "    return str(calcular_ruta( RUTA, desde, RUTA[desde][hasta])) +  \\\n",
    "                ',' + \\\n",
    "                str(RUTA[desde][hasta] \\\n",
    "              )\n",
    "\n",
    "print(\"\\nLa ruta es:\")\n",
    "calcular_ruta(RUTA, 0,5)"
   ]
  },
  {
   "cell_type": "markdown",
   "id": "08509f03-0b20-48eb-b8e4-2c6e2f3fd7b8",
   "metadata": {},
   "source": [
    "#### Mio"
   ]
  },
  {
   "cell_type": "code",
   "execution_count": 21,
   "id": "c0c5a0d5-20fc-41ce-a86d-065c89ba6469",
   "metadata": {},
   "outputs": [
    {
     "name": "stdout",
     "output_type": "stream",
     "text": [
      "La ruta más corta es: [0, 2, 5]\n",
      "La distancia más corta es: 8\n",
      "Pasos para encontrar la ruta más corta:\n",
      "Paso 1: Ir del nodo 0 al nodo 2 con una tarifa de 4\n",
      "Paso 2: Ir del nodo 2 al nodo 5 con una tarifa de 4\n",
      "\n"
     ]
    }
   ],
   "source": [
    "import sys\n",
    "\n",
    "def dijkstra(matrix:list, start:int, end:int) -> tuple:\n",
    "    n = len(matrix)\n",
    "    # Inicializar distancias con infinito y el camino más corto con None\n",
    "    distances = [sys.maxsize] * n\n",
    "    shortest_path = [None] * n\n",
    "    # Marcar el nodo de inicio con distancia 0\n",
    "    distances[start] = 0\n",
    "    # Inicializar un conjunto vacío para almacenar los nodos visitados\n",
    "    visited = set()\n",
    "    for _ in range(n):\n",
    "        # Encontrar el nodo con la distancia más corta no visitado\n",
    "        min_distance = sys.maxsize\n",
    "        min_index = None\n",
    "        for i in range(n):\n",
    "            if distances[i] < min_distance and i not in visited:\n",
    "                min_distance = distances[i]\n",
    "                min_index = i\n",
    "\n",
    "        # Marcar el nodo como visitado\n",
    "        visited.add(min_index)\n",
    "        # Actualizar las distancias de los nodos adyacentes\n",
    "        for j in range(n):\n",
    "            if matrix[min_index][j] > 0 and j not in visited:\n",
    "                new_distance = distances[min_index] + matrix[min_index][j]\n",
    "                if new_distance < distances[j]:\n",
    "                    distances[j] = new_distance\n",
    "                    shortest_path[j] = min_index\n",
    "    # Construir el camino más corto\n",
    "    path = []\n",
    "    current = end\n",
    "    while current is not None:\n",
    "        path.insert(0, current)\n",
    "        current = shortest_path[current]\n",
    "    return path, distances[end]\n",
    "\n",
    "def print_explanation(matrix:list, path:list):\n",
    "    explanation = \"Pasos para encontrar la ruta más corta:\\n\"\n",
    "    for i in range(len(path) - 1):\n",
    "        explanation += f\"Paso {i + 1}: Ir del nodo {path[i]} al nodo {path[i + 1]} con una tarifa de {matrix[path[i]][path[i + 1]]}\\n\"\n",
    "    print(explanation)\n",
    "\n",
    "matrix = [\n",
    "    [0,5,4,3,0,0,0],\n",
    "    [0,0,0,2,3,0,11],\n",
    "    [0,0,0,1,0,4,10],\n",
    "    [0,0,0,0,5,6,9],\n",
    "    [0,0,0,0,0,0,4],\n",
    "    [0,0,0,0,0,0,3],\n",
    "    [0,0,0,0,0,0,0]\n",
    "]\n",
    "start_node = 0\n",
    "end_node = 5\n",
    "\n",
    "shortest_path, shortest_distance = dijkstra(matrix, start_node, end_node)\n",
    "print(\"La ruta más corta es:\", shortest_path)\n",
    "print(\"La distancia más corta es:\", shortest_distance)\n",
    "print_explanation(matrix, shortest_path)"
   ]
  },
  {
   "cell_type": "markdown",
   "id": "33125bff-6d3d-44f4-956e-072bc563cba8",
   "metadata": {},
   "source": [
    "## FIN"
   ]
  }
 ],
 "metadata": {
  "kernelspec": {
   "display_name": "Python 3 (ipykernel)",
   "language": "python",
   "name": "python3"
  },
  "language_info": {
   "codemirror_mode": {
    "name": "ipython",
    "version": 3
   },
   "file_extension": ".py",
   "mimetype": "text/x-python",
   "name": "python",
   "nbconvert_exporter": "python",
   "pygments_lexer": "ipython3",
   "version": "3.11.7"
  }
 },
 "nbformat": 4,
 "nbformat_minor": 5
}
